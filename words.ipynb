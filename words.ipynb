{
 "cells": [
  {
   "cell_type": "code",
   "execution_count": 107,
   "metadata": {},
   "outputs": [],
   "source": [
    "import numpy as np\n",
    "from pprint import pprint\n",
    "from collections import defaultdict\n",
    "import matplotlib.pyplot as plt\n"
   ]
  },
  {
   "cell_type": "code",
   "execution_count": 108,
   "metadata": {},
   "outputs": [
    {
     "name": "stdout",
     "output_type": "stream",
     "text": [
      "Number of words: 2310\n"
     ]
    }
   ],
   "source": [
    "with open('words', 'r') as F:\n",
    "    words = F.readlines()\n",
    "\n",
    "words = list(map(lambda x: x.strip(), words))\n",
    "num_words = len(words)\n",
    "print(f'Number of words: {num_words}')"
   ]
  },
  {
   "cell_type": "code",
   "execution_count": 109,
   "metadata": {},
   "outputs": [],
   "source": [
    "letter_dist = {}\n",
    "first_letter_dist = {}\n",
    "num_letters = 0\n",
    "for word in words:\n",
    "    letter_count = first_letter_dist.get(word[0])\n",
    "    if letter_count is None:\n",
    "        first_letter_dist[word[0]] = [0, 0]\n",
    "    first_letter_dist[word[0]][0] += 1\n",
    "    first_letter_dist[word[0]][1] = first_letter_dist[word[0]][0] / num_words\n",
    "    for letter in word:\n",
    "        num_letters += 1\n",
    "        letter_count = letter_dist.get(letter)\n",
    "        if letter_count is None:\n",
    "            letter_dist[letter] = [0, 0, 0]\n",
    "        letter_dist[letter][0] += 1\n",
    "        letter_dist[letter][1] = letter_dist[letter][0] / num_letters\n",
    "for letter in letter_dist:\n",
    "    letter_dist[letter][2] = 1 - (1 - letter_dist[letter][1]) ** 5\n",
    "    \n",
    "letter_dist = dict(sorted(letter_dist.items(), key=lambda x: x[1][2], reverse=True))\n",
    "first_letter_dist = dict(sorted(first_letter_dist.items(), key=lambda x: x[1], reverse=True))\n"
   ]
  },
  {
   "cell_type": "code",
   "execution_count": 112,
   "metadata": {},
   "outputs": [
    {
     "data": {
      "image/png": "[encoded data removed]",
      "text/plain": [
       "<Figure size 432x288 with 1 Axes>"
      ]
     },
     "metadata": {
      "needs_background": "light"
     },
     "output_type": "display_data"
    }
   ],
   "source": [
    "\n",
    "x = list(first_letter_dist.keys())\n",
    "y = [l[1] for l in first_letter_dist.values()]\n",
    "\n",
    "plt.bar(x, y)\n",
    "plt.title('Probability letter is first')\n",
    "plt.show()"
   ]
  },
  {
   "cell_type": "code",
   "execution_count": 111,
   "metadata": {},
   "outputs": [
    {
     "data": {
      "image/png": "[encoded data removed]",
      "text/plain": [
       "<Figure size 432x288 with 1 Axes>"
      ]
     },
     "metadata": {
      "needs_background": "light"
     },
     "output_type": "display_data"
    }
   ],
   "source": [
    "x = list(letter_dist.keys())\n",
    "y = [l[2] for l in letter_dist.values()]\n",
    "\n",
    "plt.bar(x, y)\n",
    "plt.title('Probability letter occurs at least once')\n",
    "plt.show()"
   ]
  },
  {
   "cell_type": "code",
   "execution_count": null,
   "metadata": {},
   "outputs": [],
   "source": []
  }
 ],
 "metadata": {
  "kernelspec": {
   "display_name": "base",
   "language": "python",
   "name": "python3"
  },
  "language_info": {
   "codemirror_mode": {
    "name": "ipython",
    "version": 3
   },
   "file_extension": ".py",
   "mimetype": "text/x-python",
   "name": "python",
   "nbconvert_exporter": "python",
   "pygments_lexer": "ipython3",
   "version": "3.8.8"
  },
  "orig_nbformat": 4
 },
 "nbformat": 4,
 "nbformat_minor": 2
}
